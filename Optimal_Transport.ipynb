{
 "cells": [
  {
   "cell_type": "code",
   "execution_count": null,
   "id": "ba584b23-23b7-4630-b7c7-309c87952336",
   "metadata": {},
   "outputs": [],
   "source": [
    "# Load Data\n",
    "import numpy as np\n",
    "import scipy.io as sio\n",
    "datas = sio.loadmat('dataset_mapping.mat')\n",
    "bed_select=datas['bed_select']\n",
    "bed_whole=datas['bed_whole']\n",
    "pillow_up=datas['pillow_up']\n",
    "person = datas['person']\n",
    "posture = datas['posture']"
   ]
  },
  {
   "cell_type": "code",
   "execution_count": null,
   "id": "3a8a1d2b-4c4e-433d-a8fb-60032a033238",
   "metadata": {},
   "outputs": [],
   "source": [
    "# Create Model\n",
    "import tensorflow as tf\n",
    "from tensorflow.keras import layers\n",
    "from tensorflow.keras import models\n",
    "from tensorflow.keras.optimizers import Adam\n",
    "from tensorflow.keras.initializers import RandomNormal\n",
    "from tensorflow.keras.models import Model\n",
    "from tensorflow.keras.layers import Input\n",
    "from tensorflow.keras.layers import Conv2D\n",
    "from tensorflow.keras.layers import Conv2DTranspose\n",
    "from tensorflow.keras.layers import LeakyReLU\n",
    "from tensorflow.keras.layers import Activation\n",
    "from tensorflow.keras.layers import Concatenate\n",
    "from tensorflow.keras.layers import Dropout\n",
    "from tensorflow.keras.layers import BatchNormalization\n",
    "from tensorflow.keras.layers import LeakyReLU\n",
    "from matplotlib import pyplot\n",
    "def create_model(input_shape=(16,40,1),output_shape=(32,48,1)):\n",
    "    init = RandomNormal(stddev=0.01)\n",
    "    in_image = Input(shape=input_shape)\n",
    "    n_filters1=32\n",
    "    g1 = Conv2D(n_filters1, (4,6), strides=(1,1), kernel_initializer=init)(in_image)\n",
    "    g1 = LeakyReLU(alpha=0.2)(g1)\n",
    "    g2= Conv2D(n_filters1*2, (3,5), strides=(1,1), kernel_initializer=init)(g1)\n",
    "    g2 = LeakyReLU(alpha=0.2)(g2)\n",
    "    g3= Conv2D(n_filters1*2, (3,5), strides=(1,1), kernel_initializer=init)(g2)\n",
    "    g3 = LeakyReLU(alpha=0.2)(g3)\n",
    "    g4= Conv2D(n_filters1*2, (2,4), strides=(1,1), kernel_initializer=init)(g3)\n",
    "    g4 = LeakyReLU(alpha=0.2)(g4)\n",
    "    g4= Conv2D(n_filters1*2, (2,4), strides=(1,1), kernel_initializer=init)(g4)\n",
    "    g4 = LeakyReLU(alpha=0.2)(g4)\n",
    "    g4 = Activation('relu')(g4)\n",
    "    g5=Conv2DTranspose(n_filters1*2, (2,4), strides=(1,1), kernel_initializer=init)(g4)\n",
    "    g5 = LeakyReLU(alpha=0.2)(g5)\n",
    "    g5=Conv2DTranspose(n_filters1*2, (7,7), strides=(1,1), kernel_initializer=init)(g5)\n",
    "    g5 = LeakyReLU(alpha=0.2)(g5)\n",
    "    g6=Conv2DTranspose(n_filters1*2, (7,7), strides=(1,1), kernel_initializer=init)(g5)\n",
    "    g6 = LeakyReLU(alpha=0.2)(g6)\n",
    "    g7=Conv2DTranspose(n_filters1, (7,7), strides=(1,1), kernel_initializer=init)(g6)\n",
    "    g7 = LeakyReLU(alpha=0.2)(g7)\n",
    "    g8=Conv2DTranspose(1, (7,7), strides=(1,1), kernel_initializer=init)(g7)\n",
    "    g8 = LeakyReLU(alpha=0.2)(g8)\n",
    "    out_image = Activation('relu')(g8)\n",
    "    model = Model(in_image, out_image)\n",
    "    return model"
   ]
  },
  {
   "cell_type": "code",
   "execution_count": null,
   "id": "045b7e60-af37-48d1-b166-77647832fce4",
   "metadata": {},
   "outputs": [],
   "source": [
    "i=15\n",
    "ood_idx = np.where(posture==i)[0]\n",
    "indis_idx = np.setdiff1d(np.arange(len(posture)), ood_idx)\n",
    "indis_input = bed_select[indis_idx,:,:]\n",
    "ood_input = bed_select[ood_idx,:,:]\n",
    "indis_output = pillow_up[indis_idx,:,:]\n",
    "ood_output = pillow_up[ood_idx,:,:]\n",
    "X_tr, X_te, y_tr, y_te = train_test_split(indis_input, indis_output,train_size=0.9)\n",
    "scaler = MinMaxScaler()\n",
    "scaler2 = MinMaxScaler()\n",
    "reshaped_xtr = X_tr.reshape(X_tr.shape[0],-1)\n",
    "reshaped_xte = X_te.reshape(X_te.shape[0],-1)\n",
    "reshaped_ytr = y_tr.reshape(y_tr.shape[0],-1)\n",
    "reshaped_yte = y_te.reshape(y_te.shape[0],-1)\n",
    "reshaped_xood = ood_input.reshape(ood_input.shape[0],-1)\n",
    "reshaped_yood = ood_output.reshape(ood_output.shape[0],-1)\n",
    "\n",
    "normalized_xtr1 = scaler.fit_transform(reshaped_xtr)\n",
    "normalized_xte1 = scaler.transform(reshaped_xte)\n",
    "normalized_xood1 = scaler.transform(reshaped_xood)\n",
    "normalized_ytr1 = scaler2.fit_transform(reshaped_ytr)\n",
    "normalized_yte1 = scaler2.transform(reshaped_yte)\n",
    "normalized_yood1 = scaler2.transform(reshaped_yood)\n",
    "\n",
    "normalized_xtr = normalized_xtr1.reshape(X_tr.shape)\n",
    "normalized_xte = normalized_xte1.reshape(X_te.shape)\n",
    "normalized_ytr = normalized_ytr1.reshape(y_tr.shape)\n",
    "normalized_yte = normalized_yte1.reshape(y_te.shape)\n",
    "normalized_xood = normalized_xood1.reshape(ood_input.shape)\n",
    "normalized_yood = normalized_yood1.reshape(ood_output.shape)\n",
    "\n",
    "input_shape = (16,40,1)\n",
    "output_shape = (32,48,1)\n",
    "normalized_xtr = normalized_xtr[:,:,:,np.newaxis]\n",
    "normalized_xte = normalized_xte[:,:,:,np.newaxis]\n",
    "normalized_ytr = normalized_ytr[:,:,:,np.newaxis]\n",
    "normalized_yte = normalized_yte[:,:,:,np.newaxis]\n",
    "normalized_xood = normalized_xood[:,:,:,np.newaxis]\n",
    "normalized_yood = normalized_yood[:,:,:,np.newaxis]"
   ]
  },
  {
   "cell_type": "code",
   "execution_count": null,
   "id": "f9376e0a-96f6-4329-a5fb-eee1cc68dc48",
   "metadata": {},
   "outputs": [],
   "source": [
    "import ot\n",
    "y_te = np.squeeze(y_te)\n",
    "ood_output = np.squeeze(ood_output)\n",
    "cost_matrix = ot.dist(normalized_xtr.reshape(-1, 16 * 40), normalized_xood.reshape(-1, 16 * 40))\n",
    "\n",
    "# Compute the transport plan using the Sinkhorn algorithm\n",
    "transport_plan = ot.emd2([], [], cost_matrix)\n",
    "# Reshape the transport plan to match the input shape\n",
    "adapted_source_data = np.dot(transport_plan, normalized_xtr.reshape(-1, 16 * 40))\n",
    "adapted_source_data = adapted_source_data.reshape(normalized_xtr.shape)\n",
    "\n",
    "# Convert the adapted data to TensorFlow tensors\n",
    "#adapted_source_data = tf.convert_to_tensor(adapted_source_data, dtype=tf.float32)\n",
    "lr = 0.1\n",
    "batch_size = 16\n",
    "train_epoch = 128\n",
    "opt = tf.keras.optimizers.Adam(learning_rate=lr)\n",
    "model.compile(loss='mean_absolute_error', optimizer='adam')\n",
    "modelname = 'best_model_pot_' + str(i) + '.h5'\n",
    "checkpoint = ModelCheckpoint(modelname, monitor='val_loss', mode='min', save_best_only=True, verbose=1)\n",
    "\n",
    "history = model.fit(adapted_source_data,normalized_ytr,batch_size=batch_size, epochs=150,validation_data=(normalized_xte,normalized_yte), callbacks=[checkpoint])\n",
    "import keras\n",
    "model = keras.models.load_model(modelname)\n",
    "y_pred_norm=model.predict(normalized_xte)\n",
    "reshaped_ypred = y_pred_norm.reshape(y_pred_norm.shape[0],-1)\n",
    "y_pred1 = scaler2.inverse_transform(reshaped_ypred)\n",
    "y_pred = y_pred1.reshape(y_pred_norm.shape)\n",
    "y_te = y_te[:,:,:,np.newaxis]\n",
    "print(np.mean(np.abs(y_pred-y_te)))\n",
    "\n",
    "ood_output = ood_output[:,:,:,np.newaxis]\n",
    "y_pred_norm_ood=model.predict(normalized_xood)\n",
    "reshaped_ypred_ood = y_pred_norm_ood.reshape(y_pred_norm_ood.shape[0],-1)\n",
    "y_pred_ood1 = scaler2.inverse_transform(reshaped_ypred_ood)\n",
    "y_pred_ood = y_pred_ood1.reshape(ood_output.shape)\n",
    "\n",
    "print(np.mean(np.abs(y_pred_ood-ood_output)))"
   ]
  },
  {
   "cell_type": "code",
   "execution_count": null,
   "id": "be0fe346-e925-40c4-ba20-dcff5eee3805",
   "metadata": {},
   "outputs": [],
   "source": [
    "a = y_pred[0,:,:,0]\n",
    "b = y_te[0,:,:,0]"
   ]
  },
  {
   "cell_type": "code",
   "execution_count": null,
   "id": "a7ef0847-a6e6-4504-8c7a-067e393a8efe",
   "metadata": {},
   "outputs": [],
   "source": [
    "import matplotlib.pyplot as plt\n",
    "\n",
    "# Create a sample matrix\n",
    "matrix = a\n",
    "\n",
    "# Plot the colormap of the matrix\n",
    "plt.imshow(matrix, cmap='viridis')\n",
    "#plt.colorbar()\n",
    "\n",
    "# Show the plot\n",
    "plt.show()\n",
    "matrix = b\n",
    "\n",
    "# Plot the colormap of the matrix\n",
    "plt.imshow(matrix, cmap='viridis')\n",
    "#plt.colorbar()\n",
    "\n",
    "# Show the plot\n",
    "plt.show()"
   ]
  },
  {
   "cell_type": "code",
   "execution_count": null,
   "id": "aae1d5e3-ae79-4894-834d-b322c116c33f",
   "metadata": {},
   "outputs": [],
   "source": [
    "c= y_pred_ood[3,:,:,0]\n",
    "d = ood_output[3,:,:,0]"
   ]
  },
  {
   "cell_type": "code",
   "execution_count": null,
   "id": "e4a284c5-2587-4e74-be99-34446c300c8d",
   "metadata": {},
   "outputs": [],
   "source": [
    "matrix = c\n",
    "\n",
    "# Plot the colormap of the matrix\n",
    "plt.imshow(matrix, cmap='viridis')\n",
    "#plt.colorbar()\n",
    "\n",
    "# Show the plot\n",
    "plt.show()\n",
    "matrix = d\n",
    "\n",
    "# Plot the colormap of the matrix\n",
    "plt.imshow(matrix, cmap='viridis')\n",
    "#plt.colorbar()\n",
    "\n",
    "# Show the plot\n",
    "plt.show()"
   ]
  },
  {
   "cell_type": "code",
   "execution_count": null,
   "id": "da9d1cac-718b-49ad-aea6-fc570db29aac",
   "metadata": {},
   "outputs": [],
   "source": [
    "y_max = np.max(y_te.reshape(len(y_te),-1),axis = 1)\n",
    "percent_err = np.mean(np.abs(y_pred-y_te)/y_max[:,np.newaxis,np.newaxis,np.newaxis])"
   ]
  },
  {
   "cell_type": "code",
   "execution_count": null,
   "id": "9182846d-bf04-49f4-8835-594a5a8e0379",
   "metadata": {},
   "outputs": [],
   "source": [
    "percent_err"
   ]
  },
  {
   "cell_type": "code",
   "execution_count": null,
   "id": "c59c0b64-fa1a-444a-a87b-bebcf67706ad",
   "metadata": {},
   "outputs": [],
   "source": [
    "y_max = np.max(ood_output.reshape(len(ood_output),-1),axis = 1)\n",
    "percent_err = np.mean(np.abs(y_pred_ood-ood_output)/y_max[:,np.newaxis,np.newaxis,np.newaxis])"
   ]
  },
  {
   "cell_type": "code",
   "execution_count": null,
   "id": "0d2ee5f3-feea-4319-a025-b793389ffc71",
   "metadata": {},
   "outputs": [],
   "source": [
    "percent_err"
   ]
  }
 ],
 "metadata": {
  "kernelspec": {
   "display_name": "Python 3 (ipykernel)",
   "language": "python",
   "name": "python3"
  },
  "language_info": {
   "codemirror_mode": {
    "name": "ipython",
    "version": 3
   },
   "file_extension": ".py",
   "mimetype": "text/x-python",
   "name": "python",
   "nbconvert_exporter": "python",
   "pygments_lexer": "ipython3",
   "version": "3.11.3"
  }
 },
 "nbformat": 4,
 "nbformat_minor": 5
}
